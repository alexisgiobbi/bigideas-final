{
 "cells": [
  {
   "cell_type": "markdown",
   "metadata": {},
   "source": [
    "## Introduction\n",
    "\n",
    "Hi! Our group is made up of the three of us, **Alexis, Tom, and Panos** and we're excited to share our project with you. \n",
    "\n",
    "Initially, we just started searching around the WPRDC for datasets that were relatively interesting and also had a neighborhood column, or something similar. We threw around some datasets like overdoses and obesity rates, among other things. After finding some datasets on firearm seizures and crime, we decided that safety was going to be the theme for our project."
   ]
  },
  {
   "cell_type": "markdown",
   "metadata": {},
   "source": [
    "## The Metric\n",
    "\n",
    "We're using three different datasets (one for each of us.) Alexis's dataset is [Firearm Seizures](https://data.wprdc.org/datastore/dump/e967381d-d7e9-48e3-a2a2-39262f7fa5c4), Panos's dataset is [Police Arrest Data](https://data.wprdc.org/datastore/dump/e03a89dd-134a-4ee8-a2bd-62c40aeebc6f), and Tom's dataset is on  [Non-Traffic Citations](https://data.wprdc.org/datastore/dump/e967381d-d7e9-48e3-a2a2-39262f7fa5c4)\n",
    "\n",
    "By manipulating our respective datasets, we plan to sort the neighborhoods from least amount of incidents to most incidents. Our metric is safety, therefore the neighborhood with the least incidents is the safest and, according to our metric, the best. "
   ]
  },
  {
   "cell_type": "markdown",
   "metadata": {},
   "source": [
    "## The Best Neighborhood \n",
    "\n",
    "So, we have not made a *true* verdict on the best neighborhood, but we're working towards it and have a couple preliminary results, andalso wanted to show off some of the findings from our individual data sets."
   ]
  },
  {
   "cell_type": "code",
   "execution_count": 8,
   "metadata": {},
   "outputs": [],
   "source": [
    "# let's import all the important stuff\n",
    "import pandas as pd\n",
    "import numpy as np\n",
    "import matplotlib.pyplot as plt\n",
    "%matplotlib inline"
   ]
  },
  {
   "cell_type": "markdown",
   "metadata": {},
   "source": [
    "### Alexis's Findings: Firearm seizures"
   ]
  },
  {
   "cell_type": "code",
   "execution_count": 9,
   "metadata": {},
   "outputs": [],
   "source": [
    "# imports csv and drops incidents without neighborhoods\n",
    "firearm = pd.read_csv(\"firearm-seizures-data.csv\")\n",
    "firearm.dropna(subset = [\"neighborhood\"], inplace=True)\n",
    "\n",
    "# sums total_count by neighborhood\n",
    "firearm['total_count'] = pd.to_numeric(firearm['total_count'])\n",
    "firearm_sum = firearm.groupby('neighborhood')['total_count'].sum()\n",
    "fire_final = pd.DataFrame(firearm_sum)\n",
    "\n",
    "#sorting\n",
    "pd.set_option('display.max_rows', None)\n",
    "fire_final = fire_final.sort_values(['total_count', 'neighborhood'], ascending=[1, 0])\n",
    "\n",
    "# I'm working on possibly making the incidents proportial to the population"
   ]
  },
  {
   "cell_type": "markdown",
   "metadata": {},
   "source": [
    "#### Visuals"
   ]
  },
  {
   "cell_type": "code",
   "execution_count": 4,
   "metadata": {},
   "outputs": [],
   "source": [
    "# line graph\n",
    "fire_final.plot(rot=90, figsize=(5,5))"
   ]
  },
  {
   "cell_type": "code",
   "execution_count": 2,
   "metadata": {},
   "outputs": [],
   "source": [
    "# better chart view\n",
    "firearm = firearm.drop(columns=['tract','police_zone','fire_zone','latitude','longitude','ward',\n",
    "                            'council_district','address','public_works_division'])\n",
    "firearm.head(5)"
   ]
  },
  {
   "cell_type": "code",
   "execution_count": 6,
   "metadata": {},
   "outputs": [],
   "source": [
    "# bar chart\n",
    "fire_final.plot(kind='bar', stacked=True, figsize=(30,10))\n",
    "plt.xticks(fontsize=16)\n",
    "plt.yticks(fontsize=20)\n",
    "plt.title(\"Firearm Seizures in Pittsburgh\")\n",
    "plt.xlabel(\"Neighborhoods\")\n",
    "plt.ylabel(\"Total # of Seizures\")\n",
    "plt.style.use('seaborn-white')"
   ]
  },
  {
   "cell_type": "markdown",
   "metadata": {},
   "source": [
    "### Tom's Findings: Non-Traffic Citations"
   ]
  },
  {
   "cell_type": "markdown",
   "metadata": {},
   "source": [
    "### Panos's Findings: Police Arrests"
   ]
  },
  {
   "cell_type": "markdown",
   "metadata": {},
   "source": [
    "### Group Findings\n",
    "\n",
    "We're working on a sort of grading system so that every neighborhood would recieve a grade based on their number of incidents. This would provide a comprehensive ranking of all the neighborhoods, which will be really great. We have some work attatched below. \n",
    "\n",
    "For right now, here are each of our individual top ten lowest incidents.\n",
    "\n",
    "**Firearm seizures:** \n",
    "1. Lincoln Place\n",
    "2. Oakwood \n",
    "3. West End, Summer Hill, Regent Square, and Mt. Oliver Neighborhood (tied)\n",
    "4. Esplen and Chartiers City (tied)\n",
    "5. Hays and Friendship (tied)    \n",
    "\n",
    "**Police arrests**:\n",
    "1. Mt. Oliver Neighborhood           \n",
    "2. Troy Hill-Herrs Island            \n",
    "3. Mt. Oliver Boro                 \n",
    "4. Regent Square                   \n",
    "5. Central Northside               \n",
    "6. Ridgemont                       \n",
    "7. New Homestead                   \n",
    "8. Swisshelm Park                  \n",
    "9. Chartiers City                  \n",
    "10. St. Clair \n",
    "\n",
    "**Non-traffic citations:**\n",
    "1. Ridgemont, Outside State, Mt. Oliver Boro (tied)\n",
    "2. St. Clair\n",
    "3. Swisshelm Park and Mt. Oliver Neighborhood (tied)\n",
    "4. Summer Hill, Hays, Oakwood, and New Homstead (tied)\n",
    "\n",
    "The only neighborhood that actually appears on all three lists is Mt. Oliver Neighborhood, and it is also #1 for the least ammount of police arrests. So, without the ranking system, we predict that Mt. Oliver Neighborhood will be the best neighborhood.\n",
    "\n",
    "As a side note, South Side Flats is rounding out the bottom two spots for all three of our lists. Perhaps it will recieve the worst grade, as the least safe neighborhood"
   ]
  },
  {
   "cell_type": "markdown",
   "metadata": {},
   "source": [
    "## Conclusion"
   ]
  },
  {
   "cell_type": "code",
   "execution_count": null,
   "metadata": {},
   "outputs": [],
   "source": []
  }
 ],
 "metadata": {
  "kernelspec": {
   "display_name": "Python 3",
   "language": "python",
   "name": "python3"
  },
  "language_info": {
   "codemirror_mode": {
    "name": "ipython",
    "version": 3
   },
   "file_extension": ".py",
   "mimetype": "text/x-python",
   "name": "python",
   "nbconvert_exporter": "python",
   "pygments_lexer": "ipython3",
   "version": "3.8.3"
  }
 },
 "nbformat": 4,
 "nbformat_minor": 4
}
