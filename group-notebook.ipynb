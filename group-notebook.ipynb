{
 "cells": [
  {
   "cell_type": "markdown",
   "metadata": {},
   "source": [
    "## Introduction\n",
    "\n",
    "Hi! Our group is made up of the three of us, **Alexis, Tom, and Panos** and we're excited to share our project with you. \n",
    "\n",
    "Initially, we just started searching around the WPRDC for datasets that were relatively interesting and also had a neighborhood column, or something similar. We threw around some datasets like overdoses and obesity rates, among other things. After finding some datasets on firearm seizures and crime, we decided that safety was going to be the theme for our project."
   ]
  },
  {
   "cell_type": "markdown",
   "metadata": {},
   "source": [
    "## The Metric\n",
    "\n",
    "We're using three different datasets (one for each of us.) Alexis's dataset is [Firearm Seizures](https://data.wprdc.org/datastore/dump/e967381d-d7e9-48e3-a2a2-39262f7fa5c4), Panos's dataset is [Police Arrest Data](https://data.wprdc.org/datastore/dump/e03a89dd-134a-4ee8-a2bd-62c40aeebc6f), and Tom's dataset is on  [Non-Traffic Citations](https://data.wprdc.org/datastore/dump/e967381d-d7e9-48e3-a2a2-39262f7fa5c4)\n",
    "\n",
    "By manipulating our respective datasets, we plan to sort the neighborhoods from least amount of incidents to most incidents. Our metric is safety, therefore the neighborhood with the least incidents is the safest and, according to our metric, the best. "
   ]
  },
  {
   "cell_type": "markdown",
   "metadata": {},
   "source": [
    "## The Best Neighborhood \n",
    "\n",
    "So, we have not made a *true* verdict on the best neighborhood, but we're working towards it and have a couple preliminary results, and want to show off some of the findings from our individual data sets."
   ]
  },
  {
   "cell_type": "markdown",
   "metadata": {},
   "source": [
    "## Conclusion"
   ]
  },
  {
   "cell_type": "code",
   "execution_count": null,
   "metadata": {},
   "outputs": [],
   "source": []
  }
 ],
 "metadata": {
  "kernelspec": {
   "display_name": "Python 3",
   "language": "python",
   "name": "python3"
  },
  "language_info": {
   "codemirror_mode": {
    "name": "ipython",
    "version": 3
   },
   "file_extension": ".py",
   "mimetype": "text/x-python",
   "name": "python",
   "nbconvert_exporter": "python",
   "pygments_lexer": "ipython3",
   "version": "3.8.3"
  }
 },
 "nbformat": 4,
 "nbformat_minor": 4
}
