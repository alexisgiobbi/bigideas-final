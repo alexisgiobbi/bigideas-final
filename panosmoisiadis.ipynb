{
 "cells": [
  {
   "cell_type": "code",
   "execution_count": 1,
   "metadata": {
    "collapsed": false,
    "jupyter": {
     "outputs_hidden": false
    },
    "pycharm": {
     "name": "#%%\n"
    }
   },
   "outputs": [],
   "source": [
    "import pandas as pd\n",
    "\n",
    "%matplotlib inline"
   ]
  },
  {
   "cell_type": "code",
   "execution_count": 2,
   "metadata": {
    "collapsed": false,
    "jupyter": {
     "outputs_hidden": false
    },
    "pycharm": {
     "name": "#%%\n"
    }
   },
   "outputs": [],
   "source": [
    "#import csv\n",
    "arrests = pd.read_csv(\"pittsburgh-police-arrest-data.csv\")\n",
    "#print(len(arrests))"
   ]
  },
  {
   "cell_type": "code",
   "execution_count": 3,
   "metadata": {
    "collapsed": false,
    "jupyter": {
     "outputs_hidden": false
    },
    "pycharm": {
     "name": "#%%\n"
    }
   },
   "outputs": [],
   "source": [
    "#Filter any rows that don't have a neighborhood\n",
    "arrests.dropna(subset = [\"INCIDENTNEIGHBORHOOD\"], inplace=True)"
   ]
  },
  {
   "cell_type": "code",
   "execution_count": 4,
   "metadata": {
    "collapsed": false,
    "jupyter": {
     "outputs_hidden": false
    },
    "pycharm": {
     "name": "#%%\n"
    }
   },
   "outputs": [],
   "source": [
    "#show all rows\n",
    "pd.set_option(\"display.max_rows\", None)"
   ]
  },
  {
   "cell_type": "code",
   "execution_count": 5,
   "metadata": {
    "collapsed": false,
    "jupyter": {
     "outputs_hidden": false
    },
    "pycharm": {
     "name": "#%%\n"
    }
   },
   "outputs": [
    {
     "name": "stdout",
     "output_type": "stream",
     "text": [
      "INCIDENTNEIGHBORHOOD\n",
      "Mt. Oliver Neighborhood           2\n",
      "Troy Hill-Herrs Island            6\n",
      "Mt. Oliver Boro                  16\n",
      "Regent Square                    22\n",
      "Central Northside                23\n",
      "Ridgemont                        24\n",
      "New Homestead                    26\n",
      "Swisshelm Park                   27\n",
      "Chartiers City                   28\n",
      "St. Clair                        35\n",
      "East Carnegie                    36\n",
      "Outside County                   41\n",
      "Outside State                    45\n",
      "Oakwood                          54\n",
      "Summer Hill                      58\n",
      "Fairywood                        74\n",
      "Hays                             75\n",
      "Windgap                          76\n",
      "Golden Triangle/Civic Arena      83\n",
      "Allegheny West                   85\n",
      "Glen Hazel                       90\n",
      "Mount Oliver                     96\n",
      "Arlington Heights               109\n",
      "Polish Hill                     114\n",
      "Esplen                          121\n",
      "Friendship                      122\n",
      "Lincoln Place                   124\n",
      "Duquesne Heights                128\n",
      "Upper Lawrenceville             135\n",
      "Morningside                     136\n",
      "Westwood                        150\n",
      "Bon Air                         157\n",
      "Stanton Heights                 160\n",
      "Spring Garden                   176\n",
      "Point Breeze North              177\n",
      "Terrace Village                 179\n",
      "Lower Lawrenceville             181\n",
      "Banksville                      184\n",
      "Squirrel Hill North             185\n",
      "West End                        190\n",
      "South Shore                     195\n",
      "California-Kirkbride            197\n",
      "Overbrook                       197\n",
      "Arlington                       198\n",
      "Outside City                    208\n",
      "West Oakland                    215\n",
      "South Oakland                   219\n",
      "Point Breeze                    238\n",
      "Upper Hill                      257\n",
      "North Oakland                   271\n",
      "Troy Hill                       297\n",
      "Chateau                         312\n",
      "Central Lawrenceville           319\n",
      "Strip District                  336\n",
      "Greenfield                      341\n",
      "Manchester                      349\n",
      "Central Oakland                 367\n",
      "Crafton Heights                 368\n",
      "Beltzhoover                     369\n",
      "Highland Park                   379\n",
      "Elliott                         431\n",
      "Bedford Dwellings               436\n",
      "Perry North                     474\n",
      "Northview Heights               492\n",
      "Garfield                        500\n",
      "Spring Hill-City View           506\n",
      "North Shore                     539\n",
      "Homewood West                   543\n",
      "Larimer                         553\n",
      "Squirrel Hill South             554\n",
      "South Side Slopes               559\n",
      "Crawford-Roberts                573\n",
      "Central North Side              621\n",
      "Fineview                        622\n",
      "Allentown                       659\n",
      "Middle Hill                     667\n",
      "Bloomfield                      678\n",
      "Shadyside                       687\n",
      "East Hills                      732\n",
      "Brighton Heights                754\n",
      "Perry South                     757\n",
      "Allegheny Center                828\n",
      "Sheraden                        830\n",
      "Beechview                       843\n",
      "Brookline                       864\n",
      "Lincoln-Lemington-Belmar        864\n",
      "Hazelwood                       873\n",
      "Knoxville                       922\n",
      "Mount Washington                973\n",
      "Bluff                           994\n",
      "Marshall-Shadeland             1038\n",
      "East Liberty                   1214\n",
      "Homewood North                 1306\n",
      "Homewood South                 1446\n",
      "East Allegheny                 1512\n",
      "Carrick                        1615\n",
      "South Side Flats               2306\n",
      "Central Business District      2723\n",
      "dtype: int64\n"
     ]
    }
   ],
   "source": [
    "#find the number of arrests by neighberhood and sort by ascending\n",
    "arrests_sum = arrests.groupby(\"INCIDENTNEIGHBORHOOD\").size().sort_values(ascending=True)\n",
    "print(arrests_sum)"
   ]
  },
  {
   "cell_type": "code",
   "execution_count": 6,
   "metadata": {
    "collapsed": false,
    "jupyter": {
     "outputs_hidden": false
    },
    "pycharm": {
     "name": "#%%\n"
    }
   },
   "outputs": [
    {
     "data": {
      "text/plain": [
       "<AxesSubplot:xlabel='INCIDENTNEIGHBORHOOD'>"
      ]
     },
     "execution_count": 6,
     "metadata": {},
     "output_type": "execute_result"
    },
    {
     "data": {
      "image/png": "[encoded data removed]",
      "text/plain": [
       "<Figure size 432x288 with 1 Axes>"
      ]
     },
     "metadata": {
      "needs_background": "light"
     },
     "output_type": "display_data"
    }
   ],
   "source": [
    "#display graph\n",
    "arrests_sum.plot()"
   ]
  }
 ],
 "metadata": {
  "kernelspec": {
   "display_name": "Python 3",
   "language": "python",
   "name": "python3"
  },
  "language_info": {
   "codemirror_mode": {
    "name": "ipython",
    "version": 3
   },
   "file_extension": ".py",
   "mimetype": "text/x-python",
   "name": "python",
   "nbconvert_exporter": "python",
   "pygments_lexer": "ipython3",
   "version": "3.8.3"
  }
 },
 "nbformat": 4,
 "nbformat_minor": 4
}
