{
 "cells": [
  {
   "cell_type": "code",
   "execution_count": 5,
   "metadata": {},
   "outputs": [],
   "source": [
    "#import pandas and matplot\n",
    "import pandas as pd\n",
    "\n",
    "%matplotlib inline"
   ]
  },
  {
   "cell_type": "code",
   "execution_count": 6,
   "metadata": {},
   "outputs": [],
   "source": [
    "#import csv\n",
    "citations = pd.read_csv(\"non-traffic-citations.csv\")"
   ]
  },
  {
   "cell_type": "code",
   "execution_count": 7,
   "metadata": {},
   "outputs": [],
   "source": [
    "#drops data thats missing a neighborhood attached\n",
    "citations.dropna(subset = [\"NEIGHBORHOOD\"], inplace = True)"
   ]
  },
  {
   "cell_type": "code",
   "execution_count": 8,
   "metadata": {},
   "outputs": [],
   "source": [
    "#show each row\n",
    "pd.set_option(\"display.max_rows\", None)"
   ]
  },
  {
   "cell_type": "code",
   "execution_count": 9,
   "metadata": {},
   "outputs": [
    {
     "name": "stdout",
     "output_type": "stream",
     "text": [
      "NEIGHBORHOOD\n",
      "Ridgemont                         1\n",
      "Outside State                     1\n",
      "Mt. Oliver Boro                   1\n",
      "St. Clair                         3\n",
      "Swisshelm Park                    4\n",
      "Mt. Oliver Neighborhood           4\n",
      "Summer Hill                       5\n",
      "Hays                              5\n",
      "Oakwood                           5\n",
      "New Homestead                     5\n",
      "Arlington Heights                 6\n",
      "Spring Garden                     7\n",
      "Regent Square                     7\n",
      "Unable To Retrieve Address        7\n",
      "Outside City                      7\n",
      "Fairywood                         9\n",
      "Duquesne Heights                  9\n",
      "Windgap                          11\n",
      "Glen Hazel                       12\n",
      "East Carnegie                    13\n",
      "Polish Hill                      14\n",
      "Friendship                       14\n",
      "Allegheny West                   15\n",
      "Morningside                      16\n",
      "Westwood                         17\n",
      "Lower Lawrenceville              17\n",
      "Esplen                           18\n",
      "West End                         18\n",
      "Upper Hill                       18\n",
      "Bon Air                          19\n",
      "Mount Oliver                     19\n",
      "Stanton Heights                  21\n",
      "Terrace Village                  22\n",
      "Fineview                         24\n",
      "California-Kirkbride             25\n",
      "Point Breeze North               26\n",
      "Banksville                       27\n",
      "Perry North                      28\n",
      "Manchester                       29\n",
      "Homewood West                    29\n",
      "Upper Lawrenceville              30\n",
      "Highland Park                    31\n",
      "Lincoln Place                    32\n",
      "Troy Hill                        33\n",
      "Overbrook                        37\n",
      "Point Breeze                     38\n",
      "South Shore                      40\n",
      "Spring Hill-City View            41\n",
      "Crafton Heights                  41\n",
      "Golden Triangle/Civic Arena      42\n",
      "Bedford Dwellings                45\n",
      "Arlington                        47\n",
      "Northview Heights                47\n",
      "West Oakland                     47\n",
      "Perry South                      48\n",
      "Chateau                          50\n",
      "Beltzhoover                      51\n",
      "Crawford-Roberts                 62\n",
      "Central Lawrenceville            64\n",
      "Brighton Heights                 65\n",
      "Middle Hill                      67\n",
      "Lincoln-Lemington-Belmar         73\n",
      "Garfield                         77\n",
      "Strip District                   79\n",
      "Marshall-Shadeland               79\n",
      "East Hills                       83\n",
      "Elliott                          83\n",
      "South Oakland                    84\n",
      "Beechview                        86\n",
      "Bluff                           104\n",
      "Bloomfield                      106\n",
      "Greenfield                      108\n",
      "Allentown                       113\n",
      "Larimer                         117\n",
      "Homewood North                  118\n",
      "Central North Side              118\n",
      "Allegheny Center                125\n",
      "South Side Slopes               135\n",
      "Squirrel Hill North             136\n",
      "East Liberty                    145\n",
      "Homewood South                  155\n",
      "North Oakland                   158\n",
      "Knoxville                       164\n",
      "Sheraden                        178\n",
      "Squirrel Hill South             183\n",
      "Hazelwood                       199\n",
      "Mount Washington                227\n",
      "Brookline                       241\n",
      "Shadyside                       254\n",
      "Carrick                         260\n",
      "East Allegheny                  284\n",
      "North Shore                     406\n",
      "Central Oakland                 574\n",
      "Central Business District      1170\n",
      "South Side Flats               2785\n",
      "dtype: int64\n"
     ]
    }
   ],
   "source": [
    "#counts and and prints the citations in ascending order\n",
    "citations_sum = citations.groupby(\"NEIGHBORHOOD\").size().sort_values(ascending = True)\n",
    "print(citations_sum)"
   ]
  },
  {
   "cell_type": "code",
   "execution_count": 10,
   "metadata": {},
   "outputs": [
    {
     "data": {
      "text/plain": [
       "<matplotlib.axes._subplots.AxesSubplot at 0x7f35449c5d90>"
      ]
     },
     "execution_count": 10,
     "metadata": {},
     "output_type": "execute_result"
    },
    {
     "data": {
      "image/png": "[encoded data removed]",
      "text/plain": [
       "<Figure size 720x720 with 1 Axes>"
      ]
     },
     "metadata": {
      "needs_background": "light"
     },
     "output_type": "display_data"
    }
   ],
   "source": [
    "citations_sum.plot(figsize=(10,10))"
   ]
  },
  {
   "cell_type": "code",
   "execution_count": null,
   "metadata": {},
   "outputs": [],
   "source": []
  }
 ],
 "metadata": {
  "kernelspec": {
   "display_name": "Python 3",
   "language": "python",
   "name": "python3"
  },
  "language_info": {
   "codemirror_mode": {
    "name": "ipython",
    "version": 3
   },
   "file_extension": ".py",
   "mimetype": "text/x-python",
   "name": "python",
   "nbconvert_exporter": "python",
   "pygments_lexer": "ipython3",
   "version": "3.8.3"
  }
 },
 "nbformat": 4,
 "nbformat_minor": 4
}
