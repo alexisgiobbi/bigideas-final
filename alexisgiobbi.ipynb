{
 "cells": [
  {
   "cell_type": "code",
   "execution_count": 11,
   "metadata": {},
   "outputs": [],
   "source": [
    "# imports pandas and matplot\n",
    "import pandas as pd\n",
    "\n",
    "%matplotlib inline"
   ]
  },
  {
   "cell_type": "code",
   "execution_count": 12,
   "metadata": {},
   "outputs": [],
   "source": [
    "# imports csv \n",
    "firearm = pd.read_csv(\"firearm-seizures-data.csv\")"
   ]
  },
  {
   "cell_type": "code",
   "execution_count": 13,
   "metadata": {},
   "outputs": [],
   "source": [
    "# drops any data that does not have a neighborhood attatched to it\n",
    "firearm.dropna(subset = [\"neighborhood\"], inplace=True)\n",
    "#firearm.head(5)"
   ]
  },
  {
   "cell_type": "code",
   "execution_count": 14,
   "metadata": {},
   "outputs": [],
   "source": [
    "# converts total_count to integers\n",
    "firearm['total_count'] = pd.to_numeric(firearm['total_count'])"
   ]
  },
  {
   "cell_type": "code",
   "execution_count": 15,
   "metadata": {},
   "outputs": [],
   "source": [
    "# sums up the total_count by neighborhood\n",
    "firearm_sum = firearm.groupby('neighborhood')['total_count'].sum()"
   ]
  },
  {
   "cell_type": "code",
   "execution_count": 16,
   "metadata": {},
   "outputs": [],
   "source": [
    "# converts the groupby to a dataframe\n",
    "fire_final = pd.DataFrame(firearm_sum)"
   ]
  },
  {
   "cell_type": "code",
   "execution_count": 17,
   "metadata": {},
   "outputs": [],
   "source": [
    "# sets it so it will display all the rows\n",
    "pd.set_option('display.max_rows', None)"
   ]
  },
  {
   "cell_type": "code",
   "execution_count": 18,
   "metadata": {},
   "outputs": [],
   "source": [
    "# sorts it in ascending order\n",
    "fire_final = fire_final.sort_values(['total_count', 'neighborhood'], ascending=[1, 0])"
   ]
  },
  {
   "cell_type": "code",
   "execution_count": 24,
   "metadata": {},
   "outputs": [
    {
     "name": "stdout",
     "output_type": "stream",
     "text": [
      "                           total_count\n",
      "neighborhood                          \n",
      "Lincoln Place                        1\n",
      "Oakwood                              2\n",
      "West End                             3\n",
      "Summer Hill                          3\n",
      "Regent Square                        3\n",
      "Mt. Oliver                           3\n",
      "Esplen                               4\n",
      "Chartiers City                       4\n",
      "Hays                                 5\n",
      "Friendship                           5\n",
      "St. Clair                            7\n",
      "Fairywood                            7\n",
      "Banksville                           7\n",
      "Westwood                             8\n",
      "Polish Hill                          8\n",
      "Mount Oliver Borough                 8\n",
      "Windgap                              9\n",
      "Stanton Heights                      9\n",
      "South Shore                          9\n",
      "Squirrel Hill North                 10\n",
      "Spring Garden                       10\n",
      "Arlington Heights                   10\n",
      "North Oakland                       11\n",
      "Bon Air                             11\n",
      "Allegheny Center                    11\n",
      "Glen Hazel                          12\n",
      "West Oakland                        13\n",
      "North Shore                         13\n",
      "Lower Lawrenceville                 13\n",
      "Upper Lawrenceville                 14\n",
      "Point Breeze North                  14\n",
      "Central Oakland                     15\n",
      "Duquesne Heights                    16\n",
      "Allegheny West                      16\n",
      "South Oakland                       17\n",
      "Strip District                      19\n",
      "Greenfield                          19\n",
      "Shadyside                           20\n",
      "Central Lawrenceville               20\n",
      "Upper Hill                          21\n",
      "Overbrook                           21\n",
      "Chateau                             21\n",
      "California-Kirkbride                21\n",
      "Point Breeze                        22\n",
      "Morningside                         22\n",
      "Squirrel Hill South                 26\n",
      "Arlington                           32\n",
      "Troy Hill                           33\n",
      "Highland Park                       33\n",
      "Terrace Village                     37\n",
      "South Side Slopes                   37\n",
      "Perry North                         37\n",
      "Beltzhoover                         39\n",
      "East Allegheny                      40\n",
      "Bluff                               40\n",
      "Homewood West                       41\n",
      "Crafton Heights                     41\n",
      "Elliott                             42\n",
      "Bloomfield                          42\n",
      "Crawford-Roberts                    43\n",
      "Northview Heights                   44\n",
      "Fineview                            50\n",
      "Spring Hill-City View               52\n",
      "Manchester                          57\n",
      "Brookline                           60\n",
      "Bedford Dwellings                   61\n",
      "Beechview                           65\n",
      "Mount Washington                    66\n",
      "East Hills                          68\n",
      "Central Northside                   68\n",
      "Allentown                           68\n",
      "Middle Hill                         70\n",
      "Garfield                            76\n",
      "Knoxville                           77\n",
      "Central Business District           89\n",
      "Sheraden                            91\n",
      "Perry South                         99\n",
      "Marshall-Shadeland                 103\n",
      "Lincoln-Lemington-Belmar           104\n",
      "Larimer                            105\n",
      "Hazelwood                          107\n",
      "Homewood North                     110\n",
      "Brighton Heights                   112\n",
      "Carrick                            114\n",
      "East Liberty                       123\n",
      "South Side Flats                   140\n",
      "Homewood South                     222\n"
     ]
    }
   ],
   "source": [
    "print(fire_final)"
   ]
  },
  {
   "cell_type": "code",
   "execution_count": 54,
   "metadata": {},
   "outputs": [
    {
     "data": {
      "text/plain": [
       "<matplotlib.axes._subplots.AxesSubplot at 0x7f9e779d9730>"
      ]
     },
     "execution_count": 54,
     "metadata": {},
     "output_type": "execute_result"
    },
    {
     "data": {
      "image/png": "[encoded data removed]",
      "text/plain": [
       "<Figure size 720x720 with 1 Axes>"
      ]
     },
     "metadata": {
      "needs_background": "light"
     },
     "output_type": "display_data"
    }
   ],
   "source": [
    "fire_final.plot(figsize=(10,10))"
   ]
  },
  {
   "cell_type": "code",
   "execution_count": null,
   "metadata": {},
   "outputs": [],
   "source": []
  }
 ],
 "metadata": {
  "kernelspec": {
   "display_name": "Python 3",
   "language": "python",
   "name": "python3"
  },
  "language_info": {
   "codemirror_mode": {
    "name": "ipython",
    "version": 3
   },
   "file_extension": ".py",
   "mimetype": "text/x-python",
   "name": "python",
   "nbconvert_exporter": "python",
   "pygments_lexer": "ipython3",
   "version": "3.8.3"
  }
 },
 "nbformat": 4,
 "nbformat_minor": 4
}
